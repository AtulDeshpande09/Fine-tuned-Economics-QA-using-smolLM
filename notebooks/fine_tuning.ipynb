{
  "cells": [
    {
      "cell_type": "code",
      "execution_count": 3,
      "metadata": {
        "id": "aNIGVgRuZRds"
      },
      "outputs": [],
      "source": [
        "from datasets import load_dataset"
      ]
    },
    {
      "cell_type": "markdown",
      "source": [
        "Import the Dataset"
      ],
      "metadata": {
        "id": "4uSPiasX9zpi"
      }
    },
    {
      "cell_type": "code",
      "execution_count": 4,
      "metadata": {
        "id": "Yh7LOnbwbj6y",
        "colab": {
          "base_uri": "https://localhost:8080/",
          "height": 49,
          "referenced_widgets": [
            "ebf1d37382284e588b5c0155d0f339ef",
            "e864f85087fc4928818354fd4363c763",
            "dbbbcb2f3f814c0a8a79902cb9861f54",
            "db213be4d6bd41d7b9e667fced673fd5",
            "7c92a6b3a47a4fd0b595a2521a0787f1",
            "5af42f916ba445fabaac84a4a33e6392",
            "991b73d3715f4899a2b1f11fda266591",
            "f0029f12d09442ae86fd76f95d0e49e1",
            "dba0710d279b4b8dbb8912850f31096a",
            "b52cf85db0c449c5aad405d7acf2c283",
            "5d64db5a4a9b41f891a5a0e460dcbe99"
          ]
        },
        "outputId": "ce37250e-a75b-44b4-e296-28a7691fd534"
      },
      "outputs": [
        {
          "output_type": "display_data",
          "data": {
            "text/plain": [
              "Generating train split: 0 examples [00:00, ? examples/s]"
            ],
            "application/vnd.jupyter.widget-view+json": {
              "version_major": 2,
              "version_minor": 0,
              "model_id": "ebf1d37382284e588b5c0155d0f339ef"
            }
          },
          "metadata": {}
        }
      ],
      "source": [
        "dataset = load_dataset(\"json\",data_files=\"economics.jsonl\" , split=\"train\")"
      ]
    },
    {
      "cell_type": "markdown",
      "source": [
        "Formatting"
      ],
      "metadata": {
        "id": "Q5-e48-c9_ud"
      }
    },
    {
      "cell_type": "code",
      "execution_count": 5,
      "metadata": {
        "id": "njtYAfk6cVRG"
      },
      "outputs": [],
      "source": [
        "def format_for_t5(example):\n",
        "  instruction = example[\"instruction\"]\n",
        "  input_text = example.get(\"input\",\"\")\n",
        "  return {\n",
        "      \"prompt\": f\"{instruction}\\n{input_text}\".strip(),\n",
        "      \"labels\" : example[\"output\"]\n",
        "  }"
      ]
    },
    {
      "cell_type": "code",
      "execution_count": 6,
      "metadata": {
        "colab": {
          "base_uri": "https://localhost:8080/",
          "height": 49,
          "referenced_widgets": [
            "2b94b8e28e23420c9969689e4341e2d7",
            "cb4e6238f45342ceac010de1300c080e",
            "b76032df59e74ce79cd237a90aee27a2",
            "2ea3033d1878461abec1076bbf20060c",
            "6a6556497d624c81830b7172e56e83b4",
            "d9433fb8b6424a3fb91e690cb73d9bce",
            "1f9717d10d0b4e3b99c27988f07b7a8d",
            "e111fc56568443bc8c89ca696dba6bbb",
            "b5633face10946d78f67bfa4806d334e",
            "cc6220b62455443fa1d61be0b11360c1",
            "e2b2fd68f32644349a2306d5164cbbf5"
          ]
        },
        "id": "O0MhT1ItdC-N",
        "outputId": "66144af5-5cae-4190-a9d8-13846edb6cc3"
      },
      "outputs": [
        {
          "output_type": "display_data",
          "data": {
            "text/plain": [
              "Map:   0%|          | 0/55 [00:00<?, ? examples/s]"
            ],
            "application/vnd.jupyter.widget-view+json": {
              "version_major": 2,
              "version_minor": 0,
              "model_id": "2b94b8e28e23420c9969689e4341e2d7"
            }
          },
          "metadata": {}
        }
      ],
      "source": [
        "formatted = dataset.map(format_for_t5)"
      ]
    },
    {
      "cell_type": "markdown",
      "source": [
        "Import smolLM"
      ],
      "metadata": {
        "id": "rqNoqLGG-Fg4"
      }
    },
    {
      "cell_type": "code",
      "execution_count": 7,
      "metadata": {
        "id": "xAg5KUtUiYib"
      },
      "outputs": [],
      "source": [
        "model_name = \"HuggingFaceTB/SmolLM2-360M\""
      ]
    },
    {
      "cell_type": "code",
      "execution_count": 8,
      "metadata": {
        "colab": {
          "base_uri": "https://localhost:8080/",
          "height": 247,
          "referenced_widgets": [
            "263ab06d127e4422812cf56b1d9562af",
            "93597dec0d4b4b5884a5f531f78242b3",
            "9e5574d61a384b799b7415be8c5ec848",
            "dc34c37356a944629c62eb5802ab6d87",
            "6b34279d48f5474188605b62faf8cf37",
            "10d218ff22d54becbffad5e17f731f9d",
            "0d04462120d54e3ca24ad6e82cba88c7",
            "958ace47494f4d87b77c8bdf1b34f745",
            "3aa7a8645c8441d1ab473dbb409e4e5c",
            "3faf4813b0824fb7b295c081f1904150",
            "1a52a8d8136c4353b5d2e794dd3a47e2",
            "3faf89b780eb4ae29ab6ff1ae538b9dd",
            "d7e0273496a84138a9c922cf3dc71e2e",
            "19e8385aea4e4db7a65635b781642f38",
            "a26765a6d7f94a6a985fac674ed9a811",
            "4d37d87860fe4748ba32a75ae9506c5a",
            "593ea371026c43bea7f438a1383bc43f",
            "84680cf4c598417fb714e5648bbcd194",
            "5a2186f0c6de4ccd866945af9a73f25b",
            "cd54957c132d4a90ac7969d3b2400dd0",
            "f534263c20664eff85a6f67aaaba5394",
            "2287369cee6342e0a895dc84f45f8f81",
            "3645e771eef847ef930e85a86b717f37",
            "2180cdcd76de45cbb72e4290225d343d",
            "dd0fc443c12b4a9589a1c833a2c5c2c8",
            "875d428c2eb0422eb32730a9fdbfb087",
            "75049603168e4471ab2036cc6609f0b9",
            "31ffa5c93319450e9a68e6aaabd41f33",
            "8d88c8898a5245aeb09e3d3c99b0d80b",
            "47ee803554074b56bfad2e630e2464e2",
            "dea1dfeabd4d4cc3823edd31cae69fcf",
            "6f57fc5ef5354713aba4d26a2c311986",
            "b0f849ec6593411992c5c9af09803b5e"
          ]
        },
        "id": "rJFeqTQCr4se",
        "outputId": "52502813-3848-4c20-b655-c2738382da85"
      },
      "outputs": [
        {
          "output_type": "stream",
          "name": "stderr",
          "text": [
            "/usr/local/lib/python3.11/dist-packages/huggingface_hub/utils/_auth.py:94: UserWarning: \n",
            "The secret `HF_TOKEN` does not exist in your Colab secrets.\n",
            "To authenticate with the Hugging Face Hub, create a token in your settings tab (https://huggingface.co/settings/tokens), set it as secret in your Google Colab and restart your session.\n",
            "You will be able to reuse this secret in all of your notebooks.\n",
            "Please note that authentication is recommended but still optional to access public models or datasets.\n",
            "  warnings.warn(\n"
          ]
        },
        {
          "output_type": "display_data",
          "data": {
            "text/plain": [
              "config.json:   0%|          | 0.00/689 [00:00<?, ?B/s]"
            ],
            "application/vnd.jupyter.widget-view+json": {
              "version_major": 2,
              "version_minor": 0,
              "model_id": "263ab06d127e4422812cf56b1d9562af"
            }
          },
          "metadata": {}
        },
        {
          "output_type": "display_data",
          "data": {
            "text/plain": [
              "model.safetensors:   0%|          | 0.00/724M [00:00<?, ?B/s]"
            ],
            "application/vnd.jupyter.widget-view+json": {
              "version_major": 2,
              "version_minor": 0,
              "model_id": "3faf89b780eb4ae29ab6ff1ae538b9dd"
            }
          },
          "metadata": {}
        },
        {
          "output_type": "display_data",
          "data": {
            "text/plain": [
              "generation_config.json:   0%|          | 0.00/111 [00:00<?, ?B/s]"
            ],
            "application/vnd.jupyter.widget-view+json": {
              "version_major": 2,
              "version_minor": 0,
              "model_id": "3645e771eef847ef930e85a86b717f37"
            }
          },
          "metadata": {}
        }
      ],
      "source": [
        "from transformers import AutoModelForCausalLM\n",
        "\n",
        "model = AutoModelForCausalLM.from_pretrained(model_name)"
      ]
    },
    {
      "cell_type": "markdown",
      "source": [
        "Tokenization"
      ],
      "metadata": {
        "id": "YO8nMtrd-NCv"
      }
    },
    {
      "cell_type": "code",
      "execution_count": 9,
      "metadata": {
        "id": "LyVsPQC2cXvR",
        "colab": {
          "base_uri": "https://localhost:8080/",
          "height": 177,
          "referenced_widgets": [
            "f2c040168c5c4a42a5fc8c87836e9039",
            "89f717f3e5e342e987da050d3322b6ad",
            "950bf8e7b4d84ae4acd6540077c22cb6",
            "7bace7fedd5348ba88ff72dcf82f5c12",
            "55eee5e5e309459faa1eec2d3eb3be09",
            "f8d257ae19954c3080d6de13420aefa9",
            "0723ed06031e45a2ae12bf9ecbb40c82",
            "ddcf9110f87943e3bd92db98714a1ea3",
            "f8b9446ed1f74acaae6f1b02e82961d6",
            "8b5581dac8ba4bc58a245b3b946ec9c9",
            "f0f850609c0a433985046339d3bd4c00",
            "7c7e115e89d746368d3a9b1ae861f32c",
            "f9edb112a9394e8b87ec5349d6eebdcf",
            "8ed3f364ae0140a5b6b84ea332d08d27",
            "50e048b8c2094abebc2cbde1d7284830",
            "0c1e381f5ff9419e826cf359cc261987",
            "44492153b6244995887437283dab91ec",
            "0be79927f7ea46c4a1329add0c51ac0c",
            "5f60c32db7594adca9e719eb0aa7b96b",
            "366742d8fb8b44769ca59b43a07c4258",
            "22859d961050460a8725234b0cba5920",
            "81f8fa387d3e48578c90f977ada54edf",
            "c386c55d13df476781101c7bf36052d6",
            "b86f3e9843e34d30803b9927f62eec2c",
            "fc0bd51f4c4645e4b9bbc4e0fb115504",
            "ce461860a7c0453889d4cde4a073289d",
            "3727d809c90846fd9e21e2bc2a2494e2",
            "9e9140a288b341b7918eb54ba186bd16",
            "cfb48607a60f4f7c9d8aa1dcb76b9f26",
            "df30261df22f4590847ab284c9a3ebd5",
            "7f423614e0f34fdeb13f817afc1b90e6",
            "454c31b4421841f08e7845f9f42c1191",
            "2ff71f35a6984bf1a07c77d61479b50f",
            "42d10b976c95453a82ff66c9a4a66c93",
            "1b8c47ce1ca343868e270a040fc00f27",
            "dde09f3fd3fd46d78fddb869a71ed5b4",
            "32dad392f27544bfaed9e43c0651af16",
            "818aadcc963d46c48c9cd608de68f478",
            "6242f042b91b42f1bca79a8ce4d75338",
            "a2c898824b744f7c85c5c662118a4b22",
            "74cc7eb4824f4caa89c89076c229f6d9",
            "c877a0eeb27b46eebc07a8ec6b3576b3",
            "056df33265ea44e6aa18c65f45a07a1a",
            "d02c5d8ad0a94ded8583ca9ea5fa356e",
            "6c0aac332fac43c7a4510ea8ee4f7152",
            "56d755d01d0d43e6b3253bbac919b95b",
            "5aa47f477a504c0c84a2cec196297619",
            "b1a104c2fb6e4db2904ceb7898ce3422",
            "4e030146f74e467a9020aa425c6ac7e1",
            "40832b2623174946adecca6c35d8fd4b",
            "ae351111c0454c18b42ff00633a6284e",
            "ee228df1f9dd4d1d9da54bd4bf945d6c",
            "38da627eb4524ab1922b14d0b1caea71",
            "87dc91abc3514d2786f317adee3fab7d",
            "7a7b6ccbe8ea4edfa47cd3e91e512330"
          ]
        },
        "outputId": "140b5256-f207-40ae-ad3e-bb3243d9be90"
      },
      "outputs": [
        {
          "output_type": "display_data",
          "data": {
            "text/plain": [
              "tokenizer_config.json: 0.00B [00:00, ?B/s]"
            ],
            "application/vnd.jupyter.widget-view+json": {
              "version_major": 2,
              "version_minor": 0,
              "model_id": "f2c040168c5c4a42a5fc8c87836e9039"
            }
          },
          "metadata": {}
        },
        {
          "output_type": "display_data",
          "data": {
            "text/plain": [
              "vocab.json: 0.00B [00:00, ?B/s]"
            ],
            "application/vnd.jupyter.widget-view+json": {
              "version_major": 2,
              "version_minor": 0,
              "model_id": "7c7e115e89d746368d3a9b1ae861f32c"
            }
          },
          "metadata": {}
        },
        {
          "output_type": "display_data",
          "data": {
            "text/plain": [
              "merges.txt: 0.00B [00:00, ?B/s]"
            ],
            "application/vnd.jupyter.widget-view+json": {
              "version_major": 2,
              "version_minor": 0,
              "model_id": "c386c55d13df476781101c7bf36052d6"
            }
          },
          "metadata": {}
        },
        {
          "output_type": "display_data",
          "data": {
            "text/plain": [
              "tokenizer.json: 0.00B [00:00, ?B/s]"
            ],
            "application/vnd.jupyter.widget-view+json": {
              "version_major": 2,
              "version_minor": 0,
              "model_id": "42d10b976c95453a82ff66c9a4a66c93"
            }
          },
          "metadata": {}
        },
        {
          "output_type": "display_data",
          "data": {
            "text/plain": [
              "special_tokens_map.json:   0%|          | 0.00/831 [00:00<?, ?B/s]"
            ],
            "application/vnd.jupyter.widget-view+json": {
              "version_major": 2,
              "version_minor": 0,
              "model_id": "6c0aac332fac43c7a4510ea8ee4f7152"
            }
          },
          "metadata": {}
        }
      ],
      "source": [
        "from transformers import AutoTokenizer\n",
        "\n",
        "tokenizer = AutoTokenizer.from_pretrained(model_name)"
      ]
    },
    {
      "cell_type": "code",
      "execution_count": 10,
      "metadata": {
        "colab": {
          "base_uri": "https://localhost:8080/"
        },
        "id": "YW8Hz7pNtXO-",
        "outputId": "da4c71a6-a952-4d96-8ea5-75154c021c09"
      },
      "outputs": [
        {
          "output_type": "execute_result",
          "data": {
            "text/plain": [
              "Dataset({\n",
              "    features: ['instruction', 'input', 'output', 'prompt', 'labels'],\n",
              "    num_rows: 55\n",
              "})"
            ]
          },
          "metadata": {},
          "execution_count": 10
        }
      ],
      "source": [
        "formatted"
      ]
    },
    {
      "cell_type": "code",
      "execution_count": 11,
      "metadata": {
        "id": "suw-nAwoeCzc"
      },
      "outputs": [],
      "source": [
        "def tokenize(example):\n",
        "    inputs = tokenizer(\n",
        "        example[\"prompt\"],\n",
        "        padding=\"max_length\",\n",
        "        truncation=True,\n",
        "        max_length=128\n",
        "    )\n",
        "    outputs = tokenizer(\n",
        "        example[\"labels\"],\n",
        "        padding=\"max_length\",\n",
        "        truncation=True,\n",
        "        max_length=128\n",
        "    )\n",
        "\n",
        "    return {\n",
        "        \"input_ids\": inputs[\"input_ids\"],\n",
        "        \"attention_mask\": inputs[\"attention_mask\"],\n",
        "        \"labels\": outputs[\"input_ids\"]\n",
        "    }\n"
      ]
    },
    {
      "cell_type": "code",
      "execution_count": 12,
      "metadata": {
        "id": "p9_WqvMtrxI9",
        "colab": {
          "base_uri": "https://localhost:8080/"
        },
        "outputId": "bc7d48a9-9ee1-46a8-ae3e-17fd6fc0b2d3"
      },
      "outputs": [
        {
          "output_type": "stream",
          "name": "stderr",
          "text": [
            "The new embeddings will be initialized from a multivariate normal distribution that has old embeddings' mean and covariance. As described in this article: https://nlp.stanford.edu/~johnhew/vocab-expansion.html. To disable this, use `mean_resizing=False`\n"
          ]
        }
      ],
      "source": [
        "if tokenizer.pad_token is None:\n",
        "    tokenizer.add_special_tokens({'pad_token': '[PAD]'})\n",
        "    model.resize_token_embeddings(len(tokenizer))"
      ]
    },
    {
      "cell_type": "code",
      "execution_count": 13,
      "metadata": {
        "colab": {
          "base_uri": "https://localhost:8080/",
          "height": 49,
          "referenced_widgets": [
            "521d172d3898458f85bfb550040e5a8e",
            "4643c7cfe0364e74aa325337914db2f0",
            "2e452a823b634e74af9c68399a131bbb",
            "7eb7e12d868d4f72995da0ea58a4004d",
            "b70e23c3e67b4cf699e5fe2d3a75a113",
            "734566a77bad42d1bf690cd03614e918",
            "fb570bd46d284db094efc5ed6802a6e5",
            "0114f01073784b93b4bb70071d50edc2",
            "266fb341808d4de0abb66b487d6eb6d0",
            "ff60857f954a4c2c9de72015257697a7",
            "e99f936acc514f55a55a55defc376a96"
          ]
        },
        "id": "pjweg5HIjJVP",
        "outputId": "e6b6ae60-1620-4eb8-ee3e-ece4ee8e87a7"
      },
      "outputs": [
        {
          "output_type": "display_data",
          "data": {
            "text/plain": [
              "Map:   0%|          | 0/55 [00:00<?, ? examples/s]"
            ],
            "application/vnd.jupyter.widget-view+json": {
              "version_major": 2,
              "version_minor": 0,
              "model_id": "521d172d3898458f85bfb550040e5a8e"
            }
          },
          "metadata": {}
        }
      ],
      "source": [
        "tokenized_dataset = formatted.map(tokenize)"
      ]
    },
    {
      "cell_type": "code",
      "execution_count": 14,
      "metadata": {
        "colab": {
          "base_uri": "https://localhost:8080/"
        },
        "id": "VctB4YLRjl17",
        "outputId": "7956f498-edbb-49d5-9064-13b2f4d321c2"
      },
      "outputs": [
        {
          "output_type": "execute_result",
          "data": {
            "text/plain": [
              "Dataset({\n",
              "    features: ['instruction', 'input', 'output', 'prompt', 'labels', 'input_ids', 'attention_mask'],\n",
              "    num_rows: 55\n",
              "})"
            ]
          },
          "metadata": {},
          "execution_count": 14
        }
      ],
      "source": [
        "tokenized_dataset"
      ]
    },
    {
      "cell_type": "markdown",
      "source": [
        "Splitting"
      ],
      "metadata": {
        "id": "Qid51pMa-StP"
      }
    },
    {
      "cell_type": "code",
      "execution_count": 15,
      "metadata": {
        "id": "d2RrJ3-ycYDA"
      },
      "outputs": [],
      "source": [
        "tokenized_dataset = tokenized_dataset.train_test_split(test_size=0.2)\n",
        "\n",
        "train = tokenized_dataset[\"train\"]\n",
        "eval = tokenized_dataset[\"test\"]"
      ]
    },
    {
      "cell_type": "code",
      "execution_count": 16,
      "metadata": {
        "colab": {
          "base_uri": "https://localhost:8080/"
        },
        "id": "ImAASR-vdtQR",
        "outputId": "535551cc-127a-4149-d7cf-f97659e7a4ab"
      },
      "outputs": [
        {
          "output_type": "execute_result",
          "data": {
            "text/plain": [
              "Dataset({\n",
              "    features: ['instruction', 'input', 'output', 'prompt', 'labels', 'input_ids', 'attention_mask'],\n",
              "    num_rows: 44\n",
              "})"
            ]
          },
          "metadata": {},
          "execution_count": 16
        }
      ],
      "source": [
        "train"
      ]
    },
    {
      "cell_type": "markdown",
      "source": [
        "Setting up training Arguments and Trainer"
      ],
      "metadata": {
        "id": "Ep0Js5Hm-iIc"
      }
    },
    {
      "cell_type": "code",
      "execution_count": 17,
      "metadata": {
        "id": "Uwdj8SZDkse6"
      },
      "outputs": [],
      "source": [
        "from transformers import TrainingArguments"
      ]
    },
    {
      "cell_type": "code",
      "execution_count": 22,
      "metadata": {
        "id": "O454Z6Ezk3M7"
      },
      "outputs": [],
      "source": [
        "training_args = TrainingArguments(\n",
        "    output_dir=\"./checkpoints-smollm\",\n",
        "    num_train_epochs = 5,\n",
        "    per_device_train_batch_size=2,\n",
        "    learning_rate=5e-4,\n",
        "    weight_decay=0.01,\n",
        "    save_steps=10,\n",
        "    logging_dir=\".logs\",\n",
        "    logging_steps=1,\n",
        "    report_to='none'\n",
        ")"
      ]
    },
    {
      "cell_type": "code",
      "execution_count": 23,
      "metadata": {
        "id": "J2uNabAEkcK3"
      },
      "outputs": [],
      "source": [
        "from transformers import Trainer"
      ]
    },
    {
      "cell_type": "code",
      "execution_count": 24,
      "metadata": {
        "colab": {
          "base_uri": "https://localhost:8080/"
        },
        "id": "1yJuHsSVl0xn",
        "outputId": "fb8d4d18-2048-490e-807c-12c4a0d43a76"
      },
      "outputs": [
        {
          "output_type": "stream",
          "name": "stderr",
          "text": [
            "/tmp/ipython-input-1957636794.py:1: FutureWarning: `tokenizer` is deprecated and will be removed in version 5.0.0 for `Trainer.__init__`. Use `processing_class` instead.\n",
            "  trainer = Trainer(\n"
          ]
        }
      ],
      "source": [
        "trainer = Trainer(\n",
        "    model=model,\n",
        "    args=training_args,\n",
        "    train_dataset=train,\n",
        "    eval_dataset=eval,\n",
        "    tokenizer=tokenizer\n",
        ")"
      ]
    },
    {
      "cell_type": "markdown",
      "source": [
        "Model Training"
      ],
      "metadata": {
        "id": "tdx2uaQc-pQv"
      }
    },
    {
      "cell_type": "code",
      "execution_count": 25,
      "metadata": {
        "colab": {
          "base_uri": "https://localhost:8080/",
          "height": 1000
        },
        "id": "1z_5saN_mNCt",
        "outputId": "1be61160-3025-423d-cd8c-acbfbe77f622"
      },
      "outputs": [
        {
          "output_type": "display_data",
          "data": {
            "text/plain": [
              "<IPython.core.display.HTML object>"
            ],
            "text/html": [
              "\n",
              "    <div>\n",
              "      \n",
              "      <progress value='110' max='110' style='width:300px; height:20px; vertical-align: middle;'></progress>\n",
              "      [110/110 13:06, Epoch 5/5]\n",
              "    </div>\n",
              "    <table border=\"1\" class=\"dataframe\">\n",
              "  <thead>\n",
              " <tr style=\"text-align: left;\">\n",
              "      <th>Step</th>\n",
              "      <th>Training Loss</th>\n",
              "    </tr>\n",
              "  </thead>\n",
              "  <tbody>\n",
              "    <tr>\n",
              "      <td>1</td>\n",
              "      <td>6.689800</td>\n",
              "    </tr>\n",
              "    <tr>\n",
              "      <td>2</td>\n",
              "      <td>6.307400</td>\n",
              "    </tr>\n",
              "    <tr>\n",
              "      <td>3</td>\n",
              "      <td>6.010300</td>\n",
              "    </tr>\n",
              "    <tr>\n",
              "      <td>4</td>\n",
              "      <td>5.415300</td>\n",
              "    </tr>\n",
              "    <tr>\n",
              "      <td>5</td>\n",
              "      <td>6.718800</td>\n",
              "    </tr>\n",
              "    <tr>\n",
              "      <td>6</td>\n",
              "      <td>4.612200</td>\n",
              "    </tr>\n",
              "    <tr>\n",
              "      <td>7</td>\n",
              "      <td>4.927600</td>\n",
              "    </tr>\n",
              "    <tr>\n",
              "      <td>8</td>\n",
              "      <td>6.771600</td>\n",
              "    </tr>\n",
              "    <tr>\n",
              "      <td>9</td>\n",
              "      <td>7.096000</td>\n",
              "    </tr>\n",
              "    <tr>\n",
              "      <td>10</td>\n",
              "      <td>5.796800</td>\n",
              "    </tr>\n",
              "    <tr>\n",
              "      <td>11</td>\n",
              "      <td>6.736900</td>\n",
              "    </tr>\n",
              "    <tr>\n",
              "      <td>12</td>\n",
              "      <td>4.884800</td>\n",
              "    </tr>\n",
              "    <tr>\n",
              "      <td>13</td>\n",
              "      <td>8.109700</td>\n",
              "    </tr>\n",
              "    <tr>\n",
              "      <td>14</td>\n",
              "      <td>5.198000</td>\n",
              "    </tr>\n",
              "    <tr>\n",
              "      <td>15</td>\n",
              "      <td>5.791800</td>\n",
              "    </tr>\n",
              "    <tr>\n",
              "      <td>16</td>\n",
              "      <td>7.125700</td>\n",
              "    </tr>\n",
              "    <tr>\n",
              "      <td>17</td>\n",
              "      <td>5.493800</td>\n",
              "    </tr>\n",
              "    <tr>\n",
              "      <td>18</td>\n",
              "      <td>6.242400</td>\n",
              "    </tr>\n",
              "    <tr>\n",
              "      <td>19</td>\n",
              "      <td>4.770700</td>\n",
              "    </tr>\n",
              "    <tr>\n",
              "      <td>20</td>\n",
              "      <td>4.551500</td>\n",
              "    </tr>\n",
              "    <tr>\n",
              "      <td>21</td>\n",
              "      <td>7.346900</td>\n",
              "    </tr>\n",
              "    <tr>\n",
              "      <td>22</td>\n",
              "      <td>4.478500</td>\n",
              "    </tr>\n",
              "    <tr>\n",
              "      <td>23</td>\n",
              "      <td>6.258100</td>\n",
              "    </tr>\n",
              "    <tr>\n",
              "      <td>24</td>\n",
              "      <td>5.099000</td>\n",
              "    </tr>\n",
              "    <tr>\n",
              "      <td>25</td>\n",
              "      <td>6.533200</td>\n",
              "    </tr>\n",
              "    <tr>\n",
              "      <td>26</td>\n",
              "      <td>7.036700</td>\n",
              "    </tr>\n",
              "    <tr>\n",
              "      <td>27</td>\n",
              "      <td>1.606800</td>\n",
              "    </tr>\n",
              "    <tr>\n",
              "      <td>28</td>\n",
              "      <td>4.366500</td>\n",
              "    </tr>\n",
              "    <tr>\n",
              "      <td>29</td>\n",
              "      <td>4.014200</td>\n",
              "    </tr>\n",
              "    <tr>\n",
              "      <td>30</td>\n",
              "      <td>5.671800</td>\n",
              "    </tr>\n",
              "    <tr>\n",
              "      <td>31</td>\n",
              "      <td>6.274000</td>\n",
              "    </tr>\n",
              "    <tr>\n",
              "      <td>32</td>\n",
              "      <td>4.374500</td>\n",
              "    </tr>\n",
              "    <tr>\n",
              "      <td>33</td>\n",
              "      <td>5.929700</td>\n",
              "    </tr>\n",
              "    <tr>\n",
              "      <td>34</td>\n",
              "      <td>2.932900</td>\n",
              "    </tr>\n",
              "    <tr>\n",
              "      <td>35</td>\n",
              "      <td>3.619500</td>\n",
              "    </tr>\n",
              "    <tr>\n",
              "      <td>36</td>\n",
              "      <td>6.035800</td>\n",
              "    </tr>\n",
              "    <tr>\n",
              "      <td>37</td>\n",
              "      <td>5.994000</td>\n",
              "    </tr>\n",
              "    <tr>\n",
              "      <td>38</td>\n",
              "      <td>5.356500</td>\n",
              "    </tr>\n",
              "    <tr>\n",
              "      <td>39</td>\n",
              "      <td>2.756000</td>\n",
              "    </tr>\n",
              "    <tr>\n",
              "      <td>40</td>\n",
              "      <td>6.311100</td>\n",
              "    </tr>\n",
              "    <tr>\n",
              "      <td>41</td>\n",
              "      <td>4.620000</td>\n",
              "    </tr>\n",
              "    <tr>\n",
              "      <td>42</td>\n",
              "      <td>3.413400</td>\n",
              "    </tr>\n",
              "    <tr>\n",
              "      <td>43</td>\n",
              "      <td>5.665800</td>\n",
              "    </tr>\n",
              "    <tr>\n",
              "      <td>44</td>\n",
              "      <td>2.802900</td>\n",
              "    </tr>\n",
              "    <tr>\n",
              "      <td>45</td>\n",
              "      <td>5.198600</td>\n",
              "    </tr>\n",
              "    <tr>\n",
              "      <td>46</td>\n",
              "      <td>5.009600</td>\n",
              "    </tr>\n",
              "    <tr>\n",
              "      <td>47</td>\n",
              "      <td>2.615300</td>\n",
              "    </tr>\n",
              "    <tr>\n",
              "      <td>48</td>\n",
              "      <td>5.529200</td>\n",
              "    </tr>\n",
              "    <tr>\n",
              "      <td>49</td>\n",
              "      <td>4.522500</td>\n",
              "    </tr>\n",
              "    <tr>\n",
              "      <td>50</td>\n",
              "      <td>6.013800</td>\n",
              "    </tr>\n",
              "    <tr>\n",
              "      <td>51</td>\n",
              "      <td>5.326500</td>\n",
              "    </tr>\n",
              "    <tr>\n",
              "      <td>52</td>\n",
              "      <td>4.889600</td>\n",
              "    </tr>\n",
              "    <tr>\n",
              "      <td>53</td>\n",
              "      <td>3.905900</td>\n",
              "    </tr>\n",
              "    <tr>\n",
              "      <td>54</td>\n",
              "      <td>4.025600</td>\n",
              "    </tr>\n",
              "    <tr>\n",
              "      <td>55</td>\n",
              "      <td>5.503000</td>\n",
              "    </tr>\n",
              "    <tr>\n",
              "      <td>56</td>\n",
              "      <td>6.009700</td>\n",
              "    </tr>\n",
              "    <tr>\n",
              "      <td>57</td>\n",
              "      <td>4.632900</td>\n",
              "    </tr>\n",
              "    <tr>\n",
              "      <td>58</td>\n",
              "      <td>3.310000</td>\n",
              "    </tr>\n",
              "    <tr>\n",
              "      <td>59</td>\n",
              "      <td>3.364400</td>\n",
              "    </tr>\n",
              "    <tr>\n",
              "      <td>60</td>\n",
              "      <td>3.303200</td>\n",
              "    </tr>\n",
              "    <tr>\n",
              "      <td>61</td>\n",
              "      <td>5.367300</td>\n",
              "    </tr>\n",
              "    <tr>\n",
              "      <td>62</td>\n",
              "      <td>2.301100</td>\n",
              "    </tr>\n",
              "    <tr>\n",
              "      <td>63</td>\n",
              "      <td>5.748200</td>\n",
              "    </tr>\n",
              "    <tr>\n",
              "      <td>64</td>\n",
              "      <td>1.017100</td>\n",
              "    </tr>\n",
              "    <tr>\n",
              "      <td>65</td>\n",
              "      <td>4.926000</td>\n",
              "    </tr>\n",
              "    <tr>\n",
              "      <td>66</td>\n",
              "      <td>6.128800</td>\n",
              "    </tr>\n",
              "    <tr>\n",
              "      <td>67</td>\n",
              "      <td>2.811600</td>\n",
              "    </tr>\n",
              "    <tr>\n",
              "      <td>68</td>\n",
              "      <td>4.985300</td>\n",
              "    </tr>\n",
              "    <tr>\n",
              "      <td>69</td>\n",
              "      <td>5.801000</td>\n",
              "    </tr>\n",
              "    <tr>\n",
              "      <td>70</td>\n",
              "      <td>4.304500</td>\n",
              "    </tr>\n",
              "    <tr>\n",
              "      <td>71</td>\n",
              "      <td>2.895800</td>\n",
              "    </tr>\n",
              "    <tr>\n",
              "      <td>72</td>\n",
              "      <td>4.397900</td>\n",
              "    </tr>\n",
              "    <tr>\n",
              "      <td>73</td>\n",
              "      <td>3.560000</td>\n",
              "    </tr>\n",
              "    <tr>\n",
              "      <td>74</td>\n",
              "      <td>5.401300</td>\n",
              "    </tr>\n",
              "    <tr>\n",
              "      <td>75</td>\n",
              "      <td>4.566400</td>\n",
              "    </tr>\n",
              "    <tr>\n",
              "      <td>76</td>\n",
              "      <td>4.957400</td>\n",
              "    </tr>\n",
              "    <tr>\n",
              "      <td>77</td>\n",
              "      <td>5.018200</td>\n",
              "    </tr>\n",
              "    <tr>\n",
              "      <td>78</td>\n",
              "      <td>6.522400</td>\n",
              "    </tr>\n",
              "    <tr>\n",
              "      <td>79</td>\n",
              "      <td>4.316500</td>\n",
              "    </tr>\n",
              "    <tr>\n",
              "      <td>80</td>\n",
              "      <td>4.481000</td>\n",
              "    </tr>\n",
              "    <tr>\n",
              "      <td>81</td>\n",
              "      <td>2.303000</td>\n",
              "    </tr>\n",
              "    <tr>\n",
              "      <td>82</td>\n",
              "      <td>4.015800</td>\n",
              "    </tr>\n",
              "    <tr>\n",
              "      <td>83</td>\n",
              "      <td>3.158600</td>\n",
              "    </tr>\n",
              "    <tr>\n",
              "      <td>84</td>\n",
              "      <td>2.388300</td>\n",
              "    </tr>\n",
              "    <tr>\n",
              "      <td>85</td>\n",
              "      <td>5.002700</td>\n",
              "    </tr>\n",
              "    <tr>\n",
              "      <td>86</td>\n",
              "      <td>2.846900</td>\n",
              "    </tr>\n",
              "    <tr>\n",
              "      <td>87</td>\n",
              "      <td>2.745800</td>\n",
              "    </tr>\n",
              "    <tr>\n",
              "      <td>88</td>\n",
              "      <td>2.975000</td>\n",
              "    </tr>\n",
              "    <tr>\n",
              "      <td>89</td>\n",
              "      <td>3.431100</td>\n",
              "    </tr>\n",
              "    <tr>\n",
              "      <td>90</td>\n",
              "      <td>5.919500</td>\n",
              "    </tr>\n",
              "    <tr>\n",
              "      <td>91</td>\n",
              "      <td>2.858300</td>\n",
              "    </tr>\n",
              "    <tr>\n",
              "      <td>92</td>\n",
              "      <td>3.560100</td>\n",
              "    </tr>\n",
              "    <tr>\n",
              "      <td>93</td>\n",
              "      <td>4.274100</td>\n",
              "    </tr>\n",
              "    <tr>\n",
              "      <td>94</td>\n",
              "      <td>4.852000</td>\n",
              "    </tr>\n",
              "    <tr>\n",
              "      <td>95</td>\n",
              "      <td>3.724000</td>\n",
              "    </tr>\n",
              "    <tr>\n",
              "      <td>96</td>\n",
              "      <td>1.964300</td>\n",
              "    </tr>\n",
              "    <tr>\n",
              "      <td>97</td>\n",
              "      <td>2.555300</td>\n",
              "    </tr>\n",
              "    <tr>\n",
              "      <td>98</td>\n",
              "      <td>5.447500</td>\n",
              "    </tr>\n",
              "    <tr>\n",
              "      <td>99</td>\n",
              "      <td>2.680200</td>\n",
              "    </tr>\n",
              "    <tr>\n",
              "      <td>100</td>\n",
              "      <td>3.599900</td>\n",
              "    </tr>\n",
              "    <tr>\n",
              "      <td>101</td>\n",
              "      <td>3.749800</td>\n",
              "    </tr>\n",
              "    <tr>\n",
              "      <td>102</td>\n",
              "      <td>4.749700</td>\n",
              "    </tr>\n",
              "    <tr>\n",
              "      <td>103</td>\n",
              "      <td>4.731800</td>\n",
              "    </tr>\n",
              "    <tr>\n",
              "      <td>104</td>\n",
              "      <td>4.009300</td>\n",
              "    </tr>\n",
              "    <tr>\n",
              "      <td>105</td>\n",
              "      <td>5.181300</td>\n",
              "    </tr>\n",
              "    <tr>\n",
              "      <td>106</td>\n",
              "      <td>4.090900</td>\n",
              "    </tr>\n",
              "    <tr>\n",
              "      <td>107</td>\n",
              "      <td>1.884200</td>\n",
              "    </tr>\n",
              "    <tr>\n",
              "      <td>108</td>\n",
              "      <td>4.646300</td>\n",
              "    </tr>\n",
              "    <tr>\n",
              "      <td>109</td>\n",
              "      <td>0.326500</td>\n",
              "    </tr>\n",
              "    <tr>\n",
              "      <td>110</td>\n",
              "      <td>4.901400</td>\n",
              "    </tr>\n",
              "  </tbody>\n",
              "</table><p>"
            ]
          },
          "metadata": {}
        },
        {
          "output_type": "execute_result",
          "data": {
            "text/plain": [
              "TrainOutput(global_step=110, training_loss=4.627181875163859, metrics={'train_runtime': 786.5117, 'train_samples_per_second': 0.28, 'train_steps_per_second': 0.14, 'total_flos': 53160763392000.0, 'train_loss': 4.627181875163859, 'epoch': 5.0})"
            ]
          },
          "metadata": {},
          "execution_count": 25
        }
      ],
      "source": [
        "trainer.train()"
      ]
    },
    {
      "cell_type": "markdown",
      "source": [
        "Save the model"
      ],
      "metadata": {
        "id": "2ZwdJgRG-sVw"
      }
    },
    {
      "cell_type": "code",
      "execution_count": 26,
      "metadata": {
        "id": "4ZdH96A2qP2-",
        "colab": {
          "base_uri": "https://localhost:8080/"
        },
        "outputId": "b728779b-4b68-47c8-e70e-9c666c2b61a9"
      },
      "outputs": [
        {
          "output_type": "execute_result",
          "data": {
            "text/plain": [
              "('my-smollm/tokenizer_config.json',\n",
              " 'my-smollm/special_tokens_map.json',\n",
              " 'my-smollm/vocab.json',\n",
              " 'my-smollm/merges.txt',\n",
              " 'my-smollm/added_tokens.json',\n",
              " 'my-smollm/tokenizer.json')"
            ]
          },
          "metadata": {},
          "execution_count": 26
        }
      ],
      "source": [
        "model.save_pretrained(\"my-smollm\")\n",
        "tokenizer.save_pretrained(\"my-smollm\")"
      ]
    },
    {
      "cell_type": "markdown",
      "source": [
        "Testing"
      ],
      "metadata": {
        "id": "jaHdejNH-v0Y"
      }
    },
    {
      "cell_type": "code",
      "execution_count": 27,
      "metadata": {
        "id": "8IgOJeF3mQze",
        "colab": {
          "base_uri": "https://localhost:8080/"
        },
        "outputId": "f0aacae0-8c14-4743-9693-705e21ab6d2f"
      },
      "outputs": [
        {
          "output_type": "stream",
          "name": "stderr",
          "text": [
            "Device set to use cuda:0\n"
          ]
        }
      ],
      "source": [
        "from transformers import pipeline\n",
        "\n",
        "pipe = pipeline(\"text-generation\", model=\"my-smollm\", tokenizer=\"my-smollm\")"
      ]
    },
    {
      "cell_type": "code",
      "source": [
        "pipe(\"Why do developed countries want developing countries to liberalise their trade and investment?\")"
      ],
      "metadata": {
        "colab": {
          "base_uri": "https://localhost:8080/"
        },
        "id": "JJTSHyDj57bw",
        "outputId": "d6d19daa-c0b0-4769-8ebd-227333604b23"
      },
      "execution_count": 28,
      "outputs": [
        {
          "output_type": "execute_result",
          "data": {
            "text/plain": [
              "[{'generated_text': 'Why do developed countries want developing countries to liberalise their trade and investment?, and on investment has on investment has. and to investment investment in, developing countries. investments.. investment on investments to the1n investment. to.0 to. investments, investment has investments. the., are that investment, of investing is countries of, countries0\\\\  ofI as., as on the that the is\\\\00 that andn of the and'}]"
            ]
          },
          "metadata": {},
          "execution_count": 28
        }
      ]
    },
    {
      "cell_type": "markdown",
      "source": [
        "Visualize loss"
      ],
      "metadata": {
        "id": "WxDhQCW4-yvx"
      }
    },
    {
      "cell_type": "code",
      "source": [
        "logs = trainer.state.log_history"
      ],
      "metadata": {
        "id": "Z0JJ6Rcl6fCr"
      },
      "execution_count": 29,
      "outputs": []
    },
    {
      "cell_type": "code",
      "source": [
        "import matplotlib.pyplot as plt\n",
        "\n",
        "steps = []\n",
        "losses = []\n",
        "\n",
        "for entry in logs:\n",
        "    if \"loss\" in entry:\n",
        "        steps.append(entry[\"step\"])\n",
        "        losses.append(entry[\"loss\"])\n"
      ],
      "metadata": {
        "id": "xo-Saxsv8AaY"
      },
      "execution_count": 30,
      "outputs": []
    },
    {
      "cell_type": "code",
      "source": [
        "plt.figure(figsize=(10, 5))\n",
        "plt.plot(steps, losses, marker='o', color='blue', linewidth=2)\n",
        "plt.title(\"Training Loss Over Steps\")\n",
        "plt.xlabel(\"Step\")\n",
        "plt.ylabel(\"Loss\")\n",
        "plt.grid(True)\n",
        "plt.tight_layout()\n",
        "plt.show()"
      ],
      "metadata": {
        "colab": {
          "base_uri": "https://localhost:8080/",
          "height": 328
        },
        "id": "2vZUHYGu8GzO",
        "outputId": "3a9b942a-c0d0-4f7f-ba17-04580b990bd6"
      },
      "execution_count": 31,
      "outputs": [
        {
          "output_type": "display_data",
          "data": {
            "text/plain": [
              "<Figure size 1000x500 with 1 Axes>"
            ],
            "image/png": "[encoded data removed]"
          },
          "metadata": {}
        }
      ]
    },
    {
      "cell_type": "markdown",
      "source": [
        "Download model"
      ],
      "metadata": {
        "id": "R7dOwNgn-2Ts"
      }
    },
    {
      "cell_type": "code",
      "source": [
        "#!zip -r my-smollm.zip my-smollm"
      ],
      "metadata": {
        "id": "67fayYbO8IJf"
      },
      "execution_count": null,
      "outputs": []
    },
    {
      "cell_type": "code",
      "source": [
        "#from google.colab import files\n",
        "#files.download(\"my-smollm.zip\")"
      ],
      "metadata": {
        "id": "IpL_O5XO9WJR"
      },
      "execution_count": null,
      "outputs": []
    },
    {
      "cell_type": "code",
      "source": [],
      "metadata": {
        "id": "7ay7sqAz9eS4"
      },
      "execution_count": null,
      "outputs": []
    }
  ],
  "metadata": {
    "colab": {
      "provenance": [],
      "gpuType": "T4"
    },
    "kernelspec": {
      "display_name": "Python 3",
      "name": "python3"
    },
    "language_info": {
      "name": "python"
    },
    "accelerator": "GPU"
  },
  "nbformat": 4,
  "nbformat_minor": 0
}